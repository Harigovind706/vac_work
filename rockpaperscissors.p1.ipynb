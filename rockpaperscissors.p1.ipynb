{
 "cells": [
  {
   "cell_type": "code",
   "execution_count": 6,
   "metadata": {},
   "outputs": [
    {
     "name": "stdout",
     "output_type": "stream",
     "text": [
      "Enter your choice: 0 for Rock, 1 for Paper, 2 for Scissors2\n",
      "Computer chose:\n",
      "2\n",
      "its a draw\n"
     ]
    }
   ],
   "source": [
    "import random\n",
    "user_choice=int(input(\"Enter your choice: 0 for Rock, 1 for Paper, 2 for Scissors\"))\n",
    "if user_choice >=3 or user_choice <0 :\n",
    "    print(\"invalid number\")\n",
    "else:\n",
    "    computer_choice =random.randint(0,2)\n",
    "    print(\"Computer chose:\")\n",
    "    print(computer_choice)\n",
    "    if computer_choice == user_choice:\n",
    "        print(\"its a draw\")\n",
    "    elif computer_choice ==0 and user_choice==2:\n",
    "        print(\"you lose\")\n",
    "    elif computer_choice ==2 and user_choice==0:\n",
    "        print(\"you won\")\n",
    "    elif computer_choice > user_choice:\n",
    "        print(\"you lose\")\n",
    "    elif computer_choice < user_choice:\n",
    "        print(\"you win\")    "
   ]
  },
  {
   "cell_type": "code",
   "execution_count": null,
   "metadata": {},
   "outputs": [],
   "source": []
  },
  {
   "cell_type": "markdown",
   "metadata": {},
   "source": []
  }
 ],
 "metadata": {
  "kernelspec": {
   "display_name": "Python 3",
   "language": "python",
   "name": "python3"
  },
  "language_info": {
   "codemirror_mode": {
    "name": "ipython",
    "version": 3
   },
   "file_extension": ".py",
   "mimetype": "text/x-python",
   "name": "python",
   "nbconvert_exporter": "python",
   "pygments_lexer": "ipython3",
   "version": "3.8.5"
  }
 },
 "nbformat": 4,
 "nbformat_minor": 4
}
